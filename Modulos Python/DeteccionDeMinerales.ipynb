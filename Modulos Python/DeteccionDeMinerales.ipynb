{
 "cells": [
  {
   "cell_type": "code",
   "execution_count": 8,
   "metadata": {},
   "outputs": [],
   "source": [
    "\n",
    "\n",
    "import pandas as pd\n",
    "from sklearn.model_selection import train_test_split \n",
    "from sklearn.ensemble import RandomForestClassifier\n",
    "from sklearn.metrics import accuracy_score"
   ]
  },
  {
   "cell_type": "code",
   "execution_count": 42,
   "metadata": {},
   "outputs": [
    {
     "name": "stdout",
     "output_type": "stream",
     "text": [
      "Tipo de tierra predicho: 3\n",
      "Piedras comunes en esta tierra: Grava, Arena\n",
      "Tipo de tierra en la fila 3: 1\n",
      "Piedras comunes en la tierra 3: Grava, Arena\n"
     ]
    }
   ],
   "source": [
    "\n",
    "def actualizar_y_predecir(nuevos_datos):\n",
    "    # Definir los datos\n",
    "    data = {\n",
    "        'Tipo de Tierra': ['Tierra Arcillosa', 'Tierra Agrícola', 'Arena de Costa', 'Arena de Río'],\n",
    "        'Contenido Fosfato': [0, 1, 0, 0],\n",
    "        'Minerales Rocosos': [1, 0, 0, 0],\n",
    "        'Minerales Arena de Río': [0, 0, 0, 1],\n",
    "        'Minerales Arena de Costa': [0, 0, 1, 0],\n",
    "        'Piedras Comunes': ['Arcilla, Caolín', 'Limo, Arenisca', 'Cuarzo, Granito', 'Grava, Arena']\n",
    "    }\n",
    "\n",
    "    # Crear DataFrame\n",
    "    df = pd.DataFrame(data)\n",
    "\n",
    "    # Convertir etiquetas a numéricas\n",
    "    df['Tipo de Tierra'] = df['Tipo de Tierra'].astype('category').cat.codes\n",
    "\n",
    "    # Dividir los datos\n",
    "    X = df.drop(['Tipo de Tierra', 'Piedras Comunes'], axis=1)\n",
    "    y = df['Tipo de Tierra']\n",
    "    piedras_comunes = df['Piedras Comunes']\n",
    "\n",
    "    X_train, X_test, y_train, y_test = train_test_split(X, y, test_size=0.2, random_state=42)\n",
    "\n",
    "    # Crear y entrenar el modelo\n",
    "    modelo = RandomForestClassifier(n_estimators=100, random_state=42)\n",
    "    modelo.fit(X_train, y_train)\n",
    "\n",
    "    # Convertir nuevos datos a DataFrame\n",
    "    nueva_tierra = pd.DataFrame(nuevos_datos)\n",
    "\n",
    "    # Hacer la predicción\n",
    "    prediccion = modelo.predict(nueva_tierra)\n",
    "\n",
    "    # Obtener el nombre del tipo de tierra y las piedras comunes asociadas\n",
    "    tipos_de_tierra = df['Tipo de Tierra'].astype('category').cat.categories\n",
    "    tipo_predicho = tipos_de_tierra[prediccion[0]]\n",
    "    piedra_predicha = piedras_comunes.iloc[prediccion[0]]\n",
    "\n",
    "    # Determinar el tipo de tierra en la fila 3\n",
    "    tipo_tierra_fila_3 = df.loc[3, 'Tipo de Tierra']\n",
    "    piedra_fila_3 = df.loc[3, 'Piedras Comunes']\n",
    "    tipo_tierra_fila_3_nombre = tipos_de_tierra[tipo_tierra_fila_3]\n",
    "\n",
    "    return (tipo_predicho, piedra_predicha, tipo_tierra_fila_3_nombre, piedra_fila_3)\n",
    "\n",
    "# Definir nuevas características\n",
    "nuevos_datos = {\n",
    "    'Contenido Fosfato': [0],\n",
    "    'Minerales Rocosos': [1],\n",
    "    'Minerales Arena de Río': [1],\n",
    "    'Minerales Arena de Costa': [0]\n",
    "}\n",
    "\n",
    "# Actualizar y predecir\n",
    "tipo_predicho, piedra_predicha, tipo_tierra_fila_3, piedra_fila_3 = actualizar_y_predecir(nuevos_datos)\n",
    "\n",
    "print(f'Tipo de tierra predicho: {tipo_predicho}')\n",
    "print(f'Piedras comunes en esta tierra: {piedra_predicha}')\n",
    "print(f'Tipo de tierra en la fila 3: {tipo_tierra_fila_3}')\n",
    "print(f'Piedras comunes en la tierra 3: {piedra_fila_3}')"
   ]
  }
 ],
 "metadata": {
  "kernelspec": {
   "display_name": "Python 3",
   "language": "python",
   "name": "python3"
  },
  "language_info": {
   "codemirror_mode": {
    "name": "ipython",
    "version": 3
   },
   "file_extension": ".py",
   "mimetype": "text/x-python",
   "name": "python",
   "nbconvert_exporter": "python",
   "pygments_lexer": "ipython3",
   "version": "3.12.5"
  }
 },
 "nbformat": 4,
 "nbformat_minor": 2
}
