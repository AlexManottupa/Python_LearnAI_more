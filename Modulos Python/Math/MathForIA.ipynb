{
 "cells": [
  {
   "cell_type": "code",
   "execution_count": 2,
   "metadata": {},
   "outputs": [],
   "source": [
    "import numpy as np"
   ]
  },
  {
   "cell_type": "markdown",
   "metadata": {},
   "source": [
    "1.Propiedades de los numeros reales (Aritmetica basica)"
   ]
  },
  {
   "cell_type": "code",
   "execution_count": 3,
   "metadata": {},
   "outputs": [
    {
     "name": "stdout",
     "output_type": "stream",
     "text": [
      "True\n",
      "True\n",
      "True\n",
      "True\n",
      "True\n"
     ]
    }
   ],
   "source": [
    "# Propiedades de los números reales\n",
    "a, b, c = 5, 3, 4\n",
    "\n",
    "# Propiedad conmutativa\n",
    "print(a + b == b + a)  # True\n",
    "print(a * b == b * a)  # True\n",
    "\n",
    "# Propiedad asociativa\n",
    "print((a + b) + c == a + (b + c))  # True\n",
    "print((a * b) * c == a * (b * c))  # True\n",
    "\n",
    "# Propiedad distributiva\n",
    "print(a * (b + c) == a * b + a * c)  # True"
   ]
  },
  {
   "cell_type": "markdown",
   "metadata": {},
   "source": [
    "2) Ecuaciones cuadraticas Y lineales"
   ]
  },
  {
   "cell_type": "code",
   "execution_count": 4,
   "metadata": {},
   "outputs": [
    {
     "name": "stdout",
     "output_type": "stream",
     "text": [
      "Solución de la ecuación lineal: x = 2.0\n",
      "Soluciones de la ecuación cuadrática: x1 = -1.0, x2 = -2.0\n"
     ]
    }
   ],
   "source": [
    "import math\n",
    "\n",
    "# Ecuación lineal ax + b = 0\n",
    "a, b = 2, -4\n",
    "x = -b / a\n",
    "print(f\"Solución de la ecuación lineal: x = {x}\")  # x = 2.0\n",
    "\n",
    "# Ecuación cuadrática ax^2 + bx + c = 0\n",
    "a, b, c = 1, 3, 2\n",
    "discriminant = b**2 - 4 * a * c\n",
    "x1 = (-b + math.sqrt(discriminant)) / (2 * a)\n",
    "x2 = (-b - math.sqrt(discriminant)) / (2 * a)\n",
    "print(f\"Soluciones de la ecuación cuadrática: x1 = {x1}, x2 = {x2}\")  # x1 = 2.0, x2 = 1.0"
   ]
  },
  {
   "cell_type": "markdown",
   "metadata": {},
   "source": [
    "3) Definicion de vectores y operaciones vectoriales."
   ]
  },
  {
   "cell_type": "code",
   "execution_count": 5,
   "metadata": {},
   "outputs": [
    {
     "name": "stdout",
     "output_type": "stream",
     "text": [
      "Suma de vectores: [4, 6]\n",
      "Resta de vectores: [-2, -2]\n",
      "Multiplicación por escalar: [3, 6]\n",
      "Producto escalar: 11\n"
     ]
    }
   ],
   "source": [
    "# Definición de vectores\n",
    "vector_a = [1, 2]\n",
    "vector_b = [3, 4]\n",
    "\n",
    "# Suma y resta de vectores\n",
    "suma = [a + b for a, b in zip(vector_a, vector_b)]\n",
    "resta = [a - b for a, b in zip(vector_a, vector_b)]\n",
    "print(f\"Suma de vectores: {suma}\")  # [4, 6]\n",
    "print(f\"Resta de vectores: {resta}\")  # [-2, -2]\n",
    "\n",
    "# Multiplicación por un escalar\n",
    "escalar = 3\n",
    "producto = [escalar * a for a in vector_a]\n",
    "print(f\"Multiplicación por escalar: {producto}\")  # [3, 6]\n",
    "\n",
    "# Producto escalar\n",
    "producto_escalar = sum(a * b for a, b in zip(vector_a, vector_b))\n",
    "print(f\"Producto escalar: {producto_escalar}\")  # 11"
   ]
  },
  {
   "cell_type": "markdown",
   "metadata": {},
   "source": [
    "4) definicion y operaciones con matrices."
   ]
  },
  {
   "cell_type": "code",
   "execution_count": 6,
   "metadata": {},
   "outputs": [
    {
     "name": "stdout",
     "output_type": "stream",
     "text": [
      "Suma de matrices: [[6, 8], [10, 12]]\n",
      "Resta de matrices: [[-4, -4], [-4, -4]]\n",
      "Multiplicación de matrices: [[19, 22], [43, 50]]\n",
      "Transpuesta de la matriz: [[1, 3], [2, 4]]\n"
     ]
    }
   ],
   "source": [
    "# Definición de matrices\n",
    "matriz_A = [[1, 2], [3, 4]]\n",
    "matriz_B = [[5, 6], [7, 8]]\n",
    "\n",
    "# Suma de matrices\n",
    "suma_matrices = [[a + b for a, b in zip(fila_A, fila_B)] for fila_A, fila_B in zip(matriz_A, matriz_B)]\n",
    "print(f\"Suma de matrices: {suma_matrices}\")  # [[6, 8], [10, 12]]\n",
    "\n",
    "# Resta de matrices\n",
    "resta_matrices = [[a - b for a, b in zip(fila_A, fila_B)] for fila_A, fila_B in zip(matriz_A, matriz_B)]\n",
    "print(f\"Resta de matrices: {resta_matrices}\")  # [[-4, -4], [-4, -4]]\n",
    "\n",
    "# Multiplicación de matrices\n",
    "multiplicacion_matrices = [[sum(a * b for a, b in zip(fila_A, columna_B)) for columna_B in zip(*matriz_B)] for fila_A in matriz_A]\n",
    "print(f\"Multiplicación de matrices: {multiplicacion_matrices}\")  # [[19, 22], [43, 50]]\n",
    "\n",
    "# Transposición de matrices\n",
    "transpuesta_A = [[fila[i] for fila in matriz_A] for i in range(len(matriz_A[0]))]\n",
    "print(f\"Transpuesta de la matriz: {transpuesta_A}\")  # [[1, 3], [2, 4]]"
   ]
  }
 ],
 "metadata": {
  "kernelspec": {
   "display_name": "Python 3",
   "language": "python",
   "name": "python3"
  },
  "language_info": {
   "codemirror_mode": {
    "name": "ipython",
    "version": 3
   },
   "file_extension": ".py",
   "mimetype": "text/x-python",
   "name": "python",
   "nbconvert_exporter": "python",
   "pygments_lexer": "ipython3",
   "version": "3.12.5"
  }
 },
 "nbformat": 4,
 "nbformat_minor": 2
}
